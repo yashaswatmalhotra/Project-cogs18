{
 "cells": [
  {
   "cell_type": "markdown",
   "metadata": {},
   "source": [
    "# Project Description"
   ]
  },
  {
   "cell_type": "markdown",
   "metadata": {},
   "source": [
    "Welcome to the Coronavirus Interface!\n",
    "\n",
    "This project is designed to test people's understanding of the Coronavirus and provide them with certain statistics about the coronavirus. The main purpose of this project is to see if individuals are intelectually prepared to tackle the virus and help equips them with certain important facts and stats about the virus.\n",
    "The project has two main subsections- A quiz and a database\n",
    "\n",
    "The quiz contains of 10 questions about the coronavirus, how it is spread, its symptooms, etc. The asseses how prepared individuals are and gives them advice based on their performance. The quiz feature will end once all questions have been answered \n",
    "\n",
    "The database contains 4 different datasets about the coronavirus in the United States, which are - Weekly case in the US, weekly deaths in the US, distribution according to age group, and finally a bunch of global statistics about the virus. The database interface wil shut down when the user types 'end' in the input option\n",
    "\n",
    "Each of these two interfaces are heavily input based and responds differently to different inputs made by the user.\n",
    "\n",
    "The project begins with an initial input based function that allows the user to choose between accessing the quiz or the database. To switch between these two, the cell containng the initial function has to be rerun after the initial run has completely ended. \n",
    "\n",
    "Hope you are able to learn something from this project"
   ]
  },
  {
   "cell_type": "markdown",
   "metadata": {},
   "source": [
    "## Project Code\n",
    "\n",
    "\n",
    "This project does not use any API's nor does it have any complex external requirements that have to be downloaded.\n",
    "All the code for this project is present in the modules imported below.\n",
    "The only external module the project uses is 'json' that has been imported within my_module.functions below."
   ]
  },
  {
   "cell_type": "code",
   "execution_count": 3,
   "metadata": {
    "scrolled": true
   },
   "outputs": [],
   "source": [
    "from my_module.functions import*\n",
    "from my_module.classes import *\n"
   ]
  },
  {
   "cell_type": "markdown",
   "metadata": {
    "scrolled": true
   },
   "source": [
    "### The initial function required to run the interface is provided below"
   ]
  },
  {
   "cell_type": "code",
   "execution_count": 4,
   "metadata": {
    "scrolled": true
   },
   "outputs": [],
   "source": [
    "def begin(test_mode = False, input_choice = 'default'):\n",
    "    \n",
    "    \"\"\" Begins the program and gives user the option of choosing between giving a quiz or looking at the database\n",
    "    \n",
    "    Parameters\n",
    "    ----------\n",
    "    Input 1, test_mode: bool, Optional \n",
    "    If false, the user will be given an option between giving a quiz or viewing a program.\n",
    "    If true, test_mode is active and the choice based interface will not show up\n",
    "    \n",
    "    Input 2, input_choice:, str, Optional\n",
    "    input_choice is primarily used for testing when test_mode is True \n",
    "    No inputs required to run the function. Two default inputs are present that need not be changed to run the function. \n",
    "    \n",
    "    Returns\n",
    "    -------\n",
    "    output: Based on the test_mode\n",
    "    Returns either a fuction for a quiz or a database interface if test_mode is False\n",
    "    Returns input_choice for testing purposes if test_mode is True\n",
    "    \"\"\"\n",
    "    \n",
    "    #Checks if test_mode is inactive to provide an option for selecting a quiz or a databse\n",
    "    if (test_mode == False):\n",
    "        choice = input('Welcome to the Coronavirus interface! What would you like to do first\\n'\n",
    "                   'Press a to play a quiz to test your knowledge about the coronavirus'\n",
    "                   ' or,\\nPress b to look at the country database: ')\n",
    "        \n",
    "    elif (test_mode == True):\n",
    "        choice = input_choice\n",
    "\n",
    "    #Uses user's input option to present either a quiz or a database if test_mode is false\n",
    "    #This portion is also used for testing purposes if test_mode is True\n",
    "    if choice == 'a':\n",
    "        if test_mode:\n",
    "            return 'a'\n",
    "        output = perform_quiz(False, question_answers)\n",
    "        \n",
    "        return output\n",
    "        \n",
    "    elif choice == 'b':\n",
    "        if test_mode:\n",
    "            return 'b'\n",
    "        output = database()\n",
    "        \n",
    "        return output\n",
    "    \n",
    "    "
   ]
  },
  {
   "cell_type": "code",
   "execution_count": 7,
   "metadata": {},
   "outputs": [
    {
     "name": "stdout",
     "output_type": "stream",
     "text": [
      "Welcome to the Coronavirus interface! What would you like to do first\n",
      "Press a to play a quiz to test your knowledge about the coronavirus or,\n",
      "Press b to look at the country database: a\n",
      "Please enter your name: Yash\n",
      "Welcome to the quiz Yash \n",
      "This quiz is designed to test your knowledge about the virus\n",
      "and see how intellectually prepared you are for the VIRUS!\n",
      " \n",
      "GOOD LUCK\n",
      "1) How long can coronavirus stay on surfaces?\n",
      "(a) A few hours\t(b) About 30 minutes\t(c) One day\t(d) Two to Three Days\n",
      "Your answer - d\n",
      "\n",
      "Congratulations, thats correct !\n",
      "2) Can you get the coronavirus from just touching a dirty surface?\n",
      "(a) Yes\t(b)No\n",
      "Your answer - a\n",
      "\n",
      "That is incorrect! The correct answer was (b)\n",
      "3) How long is the incubation period of the Virus?\n",
      "(a) One day\t(b) One week\t(c) Up to 14 days\n",
      "Your answer - c\n",
      "\n",
      "Congratulations, thats correct !\n",
      "4) What are the areas through which the coronavirus can enterr the body?\n",
      "(a) The mouth\t(b) The nose\t(c) The eyes\t(d) All of these\n",
      "Your answer - d\n",
      "\n",
      "Congratulations, thats correct !\n",
      "5) Acoording to the social distancing protocol, how much distance must you maintain?\n",
      "(a)6 feet\t(b) 0 feet, lets hug\t(c) 2 feet\n",
      "Your answer - a\n",
      "\n",
      "Congratulations, thats correct !\n",
      "6) Which of the follwong is not a symotom of the coronavirus?\n",
      "(a) Sneezing\t(b) Vomiting\t(c) Loss of taste or smell\t(d) Fever\n",
      "Your answer - b\n",
      "\n",
      "That is incorrect! The correct answer was (a)\n",
      "7) How long should you be washing your hands for?\n",
      "(a) 10 seconds\t(b) 1 minutes\t(c) 20 seconds\t(d) 5 seconds\n",
      "Your answer - b\n",
      "\n",
      "That is incorrect! The correct answer was (c)\n",
      "8) Is there currently a cure for the coronavirus?\n",
      "(a) Yes\t(b) No\n",
      "Your answer - b\n",
      "\n",
      "Congratulations, thats correct !\n",
      "9) What is the genetic makeup of the coronavirus?\n",
      "(a) DNA\t(b) RNA\t(c)Protein\n",
      "Your answer - a\n",
      "\n",
      "That is incorrect! The correct answer was (b)\n",
      "10) Is it possible for the coronavirus to mutate and change?\n",
      "(a) Yes\t(b) No\n",
      "Your answer - b\n",
      "\n",
      "That is incorrect! The correct answer was (a)\n",
      "\n",
      "Your score was 5 out of 10\n"
     ]
    },
    {
     "data": {
      "text/plain": [
       "'Your score was decent. Make sure you keep learning to be prepared'"
      ]
     },
     "execution_count": 7,
     "metadata": {},
     "output_type": "execute_result"
    }
   ],
   "source": [
    "begin()"
   ]
  },
  {
   "cell_type": "code",
   "execution_count": 8,
   "metadata": {},
   "outputs": [
    {
     "name": "stdout",
     "output_type": "stream",
     "text": [
      "Welcome to the Coronavirus interface! What would you like to do first\n",
      "Press a to play a quiz to test your knowledge about the coronavirus or,\n",
      "Press b to look at the country database: b\n",
      "Please enter your name: Yash\n",
      "Hi, Yash \n",
      "Welcome to the coronavirus USA Data base. Curruntly, The United States has the highest number of coronavirus    cases!\n",
      "Please select what exactly you would like to know\n",
      "Type a for weekly analysis of new cases\n",
      "Type b for weekly analysis of deaths\n",
      "Type c for data about cases per age group\n",
      "Type d to look at some important global stats\n",
      "\n",
      "Type end to exit the databasea\n",
      "{\n",
      "\"week 1\": 5,\n",
      "\"week 2\": 6,\n",
      "\"week 3\": 1,\n",
      "\"week 4\": 1,\n",
      "\"week 5\": 2,\n",
      "\"week 6\": 63,\n",
      "\"week 7\": 859,\n",
      "\"week 8\": 6086,\n",
      "\"week 9\": 47430,\n",
      "\"week 10\": 131648,\n",
      "\"week 11\": 209825,\n",
      "\"week 12\": 209464,\n",
      "\"week 13\": 197193,\n",
      "\"week 14\": 202564,\n",
      "\"week 15\": 188666,\n",
      "\"week 16\": 170248,\n",
      "\"week 17\": 164174,\n",
      "\"week 19\": 147428,\n",
      "\"week 20\": 143578\n",
      "} a\n",
      "Please select what exactly you would like to know\n",
      "Type a for weekly analysis of new cases\n",
      "Type b for weekly analysis of deaths\n",
      "Type c for data about cases per age group\n",
      "Type d to look at some important global stats\n",
      "\n",
      "Type end to exit the databaseb\n",
      "{\n",
      "\"week 1\": 0,\n",
      "\"week 2\": 1,\n",
      "\"week 3\": 0,\n",
      "\"week 4\": 3,\n",
      "\"week 5\": 5,\n",
      "\"week 6\": 32,\n",
      "\"week 7\": 52,\n",
      "\"week 8\": 545,\n",
      "\"week 9\": 3018,\n",
      "\"week 10\": 9412,\n",
      "\"week 11\": 15505,\n",
      "\"week 12\": 16042,\n",
      "\"week 13\": 13685,\n",
      "\"week 14\": 10969,\n",
      "\"week 15\": 9779,\n",
      "\"week 16\": 7322,\n",
      "\"week 17\": 4025,\n",
      "\"week 19\": 1163\n",
      "} b\n",
      "Please select what exactly you would like to know\n",
      "Type a for weekly analysis of new cases\n",
      "Type b for weekly analysis of deaths\n",
      "Type c for data about cases per age group\n",
      "Type d to look at some important global stats\n",
      "\n",
      "Type end to exit the databasec\n",
      "{\n",
      "\"0-17\": 64177,\n",
      "\"18-44\": 610237,\n",
      "\"45-64\": 514963,\n",
      "\"65-74\": 150837,\n",
      "\"75+\": 178630\n",
      "} c\n",
      "Please select what exactly you would like to know\n",
      "Type a for weekly analysis of new cases\n",
      "Type b for weekly analysis of deaths\n",
      "Type c for data about cases per age group\n",
      "Type d to look at some important global stats\n",
      "\n",
      "Type end to exit the databased\n",
      "{\n",
      "\"Total cases\": 7316690,\n",
      "\"Total deaths\": 412997,\n",
      "\"Active cases\": 3303688,\n",
      "\"Percent of active cases in critical condition\": 2,\n",
      "\"Total recovered\": 3594975,\n",
      "\"Closed cases\": 4007972,\n",
      "\"Percent death in closed cases\": 10\n",
      "} d\n",
      "Please select what exactly you would like to know\n",
      "Type a for weekly analysis of new cases\n",
      "Type b for weekly analysis of deaths\n",
      "Type c for data about cases per age group\n",
      "Type d to look at some important global stats\n",
      "\n",
      "Type end to exit the databaseend\n",
      "\"Hope you learnt something today!\" end\n"
     ]
    }
   ],
   "source": [
    "begin()"
   ]
  },
  {
   "cell_type": "markdown",
   "metadata": {},
   "source": [
    "###  Test functions"
   ]
  },
  {
   "cell_type": "code",
   "execution_count": 9,
   "metadata": {},
   "outputs": [
    {
     "name": "stdout",
     "output_type": "stream",
     "text": [
      "============================= test session starts =============================\n",
      "platform win32 -- Python 3.7.3, pytest-4.3.1, py-1.8.0, pluggy-0.9.0\n",
      "rootdir: C:\\Users\\Yashaswat\\Desktop\\ProjectTemplate, inifile:\n",
      "plugins: remotedata-0.3.1, openfiles-0.3.2, doctestplus-0.3.0, arraydiff-0.3\n",
      "collected 3 items\n",
      "\n",
      "my_module\\test_functions.py ...                                          [100%]\n",
      "\n",
      "========================== 3 passed in 0.03 seconds ===========================\n"
     ]
    }
   ],
   "source": [
    "!pytest my_module/test_functions.py\n"
   ]
  },
  {
   "cell_type": "markdown",
   "metadata": {},
   "source": [
    "Thank you for a great quarter !"
   ]
  },
  {
   "cell_type": "markdown",
   "metadata": {},
   "source": [
    "#### Extra Credit (*optional*)\n",
    "\n",
    "Replace all of this text with a brief explanation (~3 sentences) of: \n",
    "1. Your Python Background - No background. This is the first programming class I have ever taken\n",
    "\n",
    "2. How your project went above and beyond the requirements of the project and/or how you challenged yourself to learn something new with the final project- I believe my project went above and beyong the requirements as a challenged myself to create a heavily input based project. I have never used inputs this extensively in python before. This was the first user preferences based project I have ever created and found it challenging as I had to set up measures to ensure that the user is able to use all the functions properly. Furter, It was very challenging to set up tests for my project. The types of tests I used were unconventional and I had to learn them in my own from an external source.\n",
    "\n",
    "Thank you for a great quarter!"
   ]
  },
  {
   "cell_type": "code",
   "execution_count": null,
   "metadata": {},
   "outputs": [],
   "source": []
  }
 ],
 "metadata": {
  "kernelspec": {
   "display_name": "Python 3",
   "language": "python",
   "name": "python3"
  },
  "language_info": {
   "codemirror_mode": {
    "name": "ipython",
    "version": 3
   },
   "file_extension": ".py",
   "mimetype": "text/x-python",
   "name": "python",
   "nbconvert_exporter": "python",
   "pygments_lexer": "ipython3",
   "version": "3.7.3"
  }
 },
 "nbformat": 4,
 "nbformat_minor": 2
}
